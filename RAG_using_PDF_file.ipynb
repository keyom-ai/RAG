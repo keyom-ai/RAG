{
  "nbformat": 4,
  "nbformat_minor": 0,
  "metadata": {
    "colab": {
      "provenance": [],
      "authorship_tag": "ABX9TyMYJA9YzVGuvmxqixzhjbpZ",
      "include_colab_link": true
    },
    "kernelspec": {
      "name": "python3",
      "display_name": "Python 3"
    },
    "language_info": {
      "name": "python"
    }
  },
  "cells": [
    {
      "cell_type": "markdown",
      "metadata": {
        "id": "view-in-github",
        "colab_type": "text"
      },
      "source": [
        "<a href=\"https://colab.research.google.com/github/keyom-ai/rag/blob/main/RAG_using_PDF_file.ipynb\" target=\"_parent\"><img src=\"https://colab.research.google.com/assets/colab-badge.svg\" alt=\"Open In Colab\"/></a>"
      ]
    },
    {
      "cell_type": "markdown",
      "source": [
        "## This Notebook is created to solve RAG (retrieval augmented generation) use case - particularly we are feeding external document - in this example it's using Amazon's 2023 annual report"
      ],
      "metadata": {
        "id": "H_YRr8xC9HE8"
      }
    },
    {
      "cell_type": "markdown",
      "source": [
        "This section of the code is installing required libraries:\n",
        "- [langchain](https://www.langchain.com/): mainly used for orchestration and chaining of prompts\n",
        "- duckdb: open source OLAP database mainly used for data analysis\n",
        "- unstructured: this is provided by [unstructured.io](https://unstructured.io) to allow us to work with unstructured data (such as pdf, document, image, audio, video etc.)\n",
        "- [chromadb](https://docs.trychroma.com/getting-started): open-source vector database\n",
        "- openai: no explanation needed :)\n",
        "- tiktoken: [tokenizer](https://github.com/openai/tiktoken) used by OpenAI cookbook\n",
        "\n",
        "---\n",
        "\n"
      ],
      "metadata": {
        "id": "y1Ma78O79fFU"
      }
    },
    {
      "cell_type": "markdown",
      "source": [
        "Once you install these libraries in Colab, it requires you to restart the kernel. So follow the instruction as it ask you to restart the kernel.\n",
        "\n",
        "---\n",
        "\n"
      ],
      "metadata": {
        "id": "MULDc6gF_SXd"
      }
    },
    {
      "cell_type": "code",
      "execution_count": null,
      "metadata": {
        "id": "lduni3jph9Tc"
      },
      "outputs": [],
      "source": [
        "%pip install langchain duckdb unstructured chromadb openai tiktoken\n",
        "%pip install \"unstructured[pdf]\"\n"
      ]
    },
    {
      "cell_type": "markdown",
      "source": [
        "This is setting up the environment variable OPENAI_API_KEY. Please make sure to replace `sk-abcdefghijklmnopqrstuvwxyz0123456789` with your own OpenAI API key. You can create an API key via their [API key page](https://platform.openai.com/api-keys).\n",
        "\n",
        "**A note: ** You may need to [add](https://platform.openai.com/account/billing/overview) $10 (minimum) in your API balance if you start getting capacity error or error code 401\n",
        "\n",
        "---\n",
        "\n"
      ],
      "metadata": {
        "id": "AKxStQpD_viU"
      }
    },
    {
      "cell_type": "code",
      "source": [
        "%env OPENAI_API_KEY={'sk-abcdefghijklmnopqrstuvwxyz0123456789'}"
      ],
      "metadata": {
        "id": "M2MXN9XIiDrd"
      },
      "execution_count": null,
      "outputs": []
    },
    {
      "cell_type": "markdown",
      "source": [
        "Here is where we are loading AMZN's annual report (10K) document. You can replace this with any other document you prefer.\n",
        "\n",
        "This file is stored in the GitHub and you will need to upload it to wherever you are executing this code. If you are using Google Colab then you need to manually upload this file, unless you are cloing the GitHub repository."
      ],
      "metadata": {
        "id": "-K9YKta8BCs9"
      }
    },
    {
      "cell_type": "code",
      "source": [
        "from langchain.document_loaders.unstructured import UnstructuredFileLoader\n",
        "\n",
        "loader = UnstructuredFileLoader('amzn-10k-2023.pdf')\n",
        "\n",
        "documents = loader.load()"
      ],
      "metadata": {
        "colab": {
          "base_uri": "https://localhost:8080/"
        },
        "id": "9Yx-HzgDnGfl",
        "outputId": "f6e48cdd-335e-4114-ccbb-a40203966e1f",
        "collapsed": true
      },
      "execution_count": 3,
      "outputs": [
        {
          "output_type": "stream",
          "name": "stderr",
          "text": [
            "[nltk_data] Downloading package punkt to /root/nltk_data...\n",
            "[nltk_data]   Unzipping tokenizers/punkt.zip.\n",
            "[nltk_data] Downloading package averaged_perceptron_tagger to\n",
            "[nltk_data]     /root/nltk_data...\n",
            "[nltk_data]   Unzipping taggers/averaged_perceptron_tagger.zip.\n"
          ]
        }
      ]
    },
    {
      "cell_type": "markdown",
      "source": [
        "This step is mainly spillitng that PDF document into chunks so it can be fed to Embeddings model and then it can be stored in the vector database."
      ],
      "metadata": {
        "id": "xi61HSwSBMmj"
      }
    },
    {
      "cell_type": "code",
      "source": [
        "from langchain.text_splitter import CharacterTextSplitter\n",
        "text_splitter = CharacterTextSplitter(chunk_size=1000, chunk_overlap=0)\n",
        "texts = text_splitter.split_documents(documents)"
      ],
      "metadata": {
        "id": "twcXE2OCnqQy"
      },
      "execution_count": null,
      "outputs": []
    },
    {
      "cell_type": "markdown",
      "source": [
        "This is where we are telling langchain to use OpenAI Embeddings model. There are many other Embeddings model exist, such as [Amazon Titan Embeddings](https://docs.aws.amazon.com/bedrock/latest/userguide/embeddings.html), [Cohere Embeddings](https://docs.cohere.com/docs/multilingual-language-models) and many more via [HuggingFace](https://huggingface.co/models?other=embeddings)\n",
        "\n",
        "**A note: ** You may need to [add](https://platform.openai.com/account/billing/overview) $10 (minimum) in your API balance if you start getting capacity error or error code 401 *italicized text*"
      ],
      "metadata": {
        "id": "A1GDKycXBiBd"
      }
    },
    {
      "cell_type": "code",
      "source": [
        "from langchain.embeddings import OpenAIEmbeddings\n",
        "embeddings = OpenAIEmbeddings()"
      ],
      "metadata": {
        "id": "13nO-chxn2_e"
      },
      "execution_count": 5,
      "outputs": []
    },
    {
      "cell_type": "markdown",
      "source": [
        "Here we are storing those embeddings into Chroma vector database."
      ],
      "metadata": {
        "id": "YnWgKXDMCh9U"
      }
    },
    {
      "cell_type": "code",
      "source": [
        "from langchain.vectorstores import Chroma\n",
        "db = Chroma.from_documents(texts, embeddings)"
      ],
      "metadata": {
        "id": "L_QHu_Aqn7RZ"
      },
      "execution_count": 6,
      "outputs": []
    },
    {
      "cell_type": "markdown",
      "source": [
        "Here is where we are using VectorDBQA - part of langchain to support our Questins and Answers mode."
      ],
      "metadata": {
        "id": "r74RZ2cbC_F3"
      }
    },
    {
      "cell_type": "code",
      "source": [
        "from langchain.chains import VectorDBQA\n",
        "from langchain.chat_models import ChatOpenAI\n",
        "\n",
        "qa = VectorDBQA.from_chain_type(llm=ChatOpenAI(), chain_type=\"stuff\", vectorstore=db, k=1)"
      ],
      "metadata": {
        "id": "M-RC82iQoAW3"
      },
      "execution_count": null,
      "outputs": []
    },
    {
      "cell_type": "markdown",
      "source": [
        "This is where our actual fun starts in terms of asking question to the document."
      ],
      "metadata": {
        "id": "N9ZZ7EB5DFON"
      }
    },
    {
      "cell_type": "code",
      "source": [
        "query = \"What is the document about\"\n",
        "qa.run(query)"
      ],
      "metadata": {
        "colab": {
          "base_uri": "https://localhost:8080/",
          "height": 52
        },
        "id": "SVuxfxEaoG-6",
        "outputId": "680f8037-4a39-4340-a039-baf292e8ab62"
      },
      "execution_count": 8,
      "outputs": [
        {
          "output_type": "execute_result",
          "data": {
            "text/plain": [
              "'The document is an Annual Report on Form 10-K, which provides information about Amazon.com, Inc. and its subsidiaries. It includes financial information, business strategies, risk factors, and other relevant information about the company.'"
            ],
            "application/vnd.google.colaboratory.intrinsic+json": {
              "type": "string"
            }
          },
          "metadata": {},
          "execution_count": 8
        }
      ]
    },
    {
      "cell_type": "code",
      "source": [
        "query = \"What is amount of sales from the document\"\n",
        "qa.run(query)"
      ],
      "metadata": {
        "colab": {
          "base_uri": "https://localhost:8080/",
          "height": 35
        },
        "id": "xoHR2XdcoJum",
        "outputId": "9d851b2b-e558-4e33-b0c8-3bed90d7d136"
      },
      "execution_count": 9,
      "outputs": [
        {
          "output_type": "execute_result",
          "data": {
            "text/plain": [
              "'According to the document, the amount of net sales for the year ended December 31, 2021, is $469,822 million.'"
            ],
            "application/vnd.google.colaboratory.intrinsic+json": {
              "type": "string"
            }
          },
          "metadata": {},
          "execution_count": 9
        }
      ]
    },
    {
      "cell_type": "code",
      "source": [
        "query = \"What is the profit in 2021 from the document?\"\n",
        "qa.run(query)"
      ],
      "metadata": {
        "id": "9NEyhXi0pin3",
        "colab": {
          "base_uri": "https://localhost:8080/",
          "height": 69
        },
        "outputId": "4d839b55-71d7-4aff-eb2e-001b15ae2366"
      },
      "execution_count": 10,
      "outputs": [
        {
          "output_type": "execute_result",
          "data": {
            "text/plain": [
              "'The document does not provide information about the profit in 2021. It only mentions the operating income for 2021, which was $24.9 billion. Profit is a different financial metric that takes into account various other factors such as taxes, interest, and non-operating expenses.'"
            ],
            "application/vnd.google.colaboratory.intrinsic+json": {
              "type": "string"
            }
          },
          "metadata": {},
          "execution_count": 10
        }
      ]
    },
    {
      "cell_type": "code",
      "source": [
        "query = \"What is the COGS in 2021 from the document?\"\n",
        "qa.run(query)"
      ],
      "metadata": {
        "colab": {
          "base_uri": "https://localhost:8080/",
          "height": 35
        },
        "id": "DyZ9MH37DDy7",
        "outputId": "33b941ef-5579-4f28-e473-7eab73aead34"
      },
      "execution_count": 11,
      "outputs": [
        {
          "output_type": "execute_result",
          "data": {
            "text/plain": [
              "'The document does not provide the specific figure for COGS (Cost of Goods Sold) in 2021.'"
            ],
            "application/vnd.google.colaboratory.intrinsic+json": {
              "type": "string"
            }
          },
          "metadata": {},
          "execution_count": 11
        }
      ]
    }
  ]
}